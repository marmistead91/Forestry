{
 "cells": [
  {
   "cell_type": "code",
   "execution_count": 1,
   "metadata": {},
   "outputs": [],
   "source": [
    "import matplotlib.pyplot as plt\n",
    "%matplotlib inline"
   ]
  },
  {
   "cell_type": "code",
   "execution_count": 2,
   "metadata": {},
   "outputs": [],
   "source": [
    "import pandas as pd \n",
    "from google.cloud import bigquery"
   ]
  },
  {
   "cell_type": "code",
   "execution_count": 3,
   "metadata": {},
   "outputs": [],
   "source": [
    "gcp_project = 'future-bucksaw-294915'\n",
    "bq_data = 'trees'"
   ]
  },
  {
   "cell_type": "code",
   "execution_count": 4,
   "metadata": {},
   "outputs": [],
   "source": [
    "client=bigquery.Client(gcp_project)\n",
    "dataset_ref=client.dataset(bq_data)"
   ]
  },
  {
   "cell_type": "code",
   "execution_count": 5,
   "metadata": {},
   "outputs": [],
   "source": [
    "def gcp2df(sql):\n",
    "    query = client.query(sql)\n",
    "    results=query.result()\n",
    "    return results.to_dataframe()"
   ]
  },
  {
   "cell_type": "code",
   "execution_count": 6,
   "metadata": {},
   "outputs": [],
   "source": [
    "query = \"\"\"SELECT * FROM `bigquery-public-data.sunroof_solar.solar_potential_by_censustract`\"\"\"\n"
   ]
  },
  {
   "cell_type": "code",
   "execution_count": 7,
   "metadata": {},
   "outputs": [
    {
     "name": "stderr",
     "output_type": "stream",
     "text": [
      "/Users/michaelarmistead/opt/anaconda3/lib/python3.7/site-packages/google/cloud/bigquery/client.py:441: UserWarning: Cannot create BigQuery Storage client, the dependency google-cloud-bigquery-storage is not installed.\n",
      "  \"Cannot create BigQuery Storage client, the dependency \"\n"
     ]
    },
    {
     "data": {
      "text/html": [
       "<div>\n",
       "<style scoped>\n",
       "    .dataframe tbody tr th:only-of-type {\n",
       "        vertical-align: middle;\n",
       "    }\n",
       "\n",
       "    .dataframe tbody tr th {\n",
       "        vertical-align: top;\n",
       "    }\n",
       "\n",
       "    .dataframe thead th {\n",
       "        text-align: right;\n",
       "    }\n",
       "</style>\n",
       "<table border=\"1\" class=\"dataframe\">\n",
       "  <thead>\n",
       "    <tr style=\"text-align: right;\">\n",
       "      <th></th>\n",
       "      <th>region_name</th>\n",
       "      <th>state_name</th>\n",
       "      <th>lat_max</th>\n",
       "      <th>lat_min</th>\n",
       "      <th>lng_max</th>\n",
       "      <th>lng_min</th>\n",
       "      <th>lat_avg</th>\n",
       "      <th>lng_avg</th>\n",
       "      <th>yearly_sunlight_kwh_kw_threshold_avg</th>\n",
       "      <th>count_qualified</th>\n",
       "      <th>...</th>\n",
       "      <th>yearly_sunlight_kwh_s</th>\n",
       "      <th>yearly_sunlight_kwh_e</th>\n",
       "      <th>yearly_sunlight_kwh_w</th>\n",
       "      <th>yearly_sunlight_kwh_f</th>\n",
       "      <th>yearly_sunlight_kwh_median</th>\n",
       "      <th>yearly_sunlight_kwh_total</th>\n",
       "      <th>install_size_kw_buckets</th>\n",
       "      <th>carbon_offset_metric_tons</th>\n",
       "      <th>existing_installs_count</th>\n",
       "      <th>center_point</th>\n",
       "    </tr>\n",
       "  </thead>\n",
       "  <tbody>\n",
       "    <tr>\n",
       "      <td>0</td>\n",
       "      <td>13115000201</td>\n",
       "      <td>Georgia</td>\n",
       "      <td>34.371120</td>\n",
       "      <td>34.287239</td>\n",
       "      <td>-85.117592</td>\n",
       "      <td>-85.231651</td>\n",
       "      <td>34.330746</td>\n",
       "      <td>-85.169342</td>\n",
       "      <td>1055.70</td>\n",
       "      <td>1</td>\n",
       "      <td>...</td>\n",
       "      <td>1350.524658</td>\n",
       "      <td>1063.822833</td>\n",
       "      <td>0.000000</td>\n",
       "      <td>0.000000</td>\n",
       "      <td>2414.347491</td>\n",
       "      <td>2414.347491</td>\n",
       "      <td>[[0,1]]</td>\n",
       "      <td>1.435537</td>\n",
       "      <td>0</td>\n",
       "      <td>POINT(-85.1693420410156 34.3307456970215)</td>\n",
       "    </tr>\n",
       "    <tr>\n",
       "      <td>1</td>\n",
       "      <td>18057110512</td>\n",
       "      <td>Indiana</td>\n",
       "      <td>40.101791</td>\n",
       "      <td>40.076389</td>\n",
       "      <td>-86.038544</td>\n",
       "      <td>-86.090332</td>\n",
       "      <td>40.092869</td>\n",
       "      <td>-86.060478</td>\n",
       "      <td>983.45</td>\n",
       "      <td>1</td>\n",
       "      <td>...</td>\n",
       "      <td>0.000000</td>\n",
       "      <td>0.000000</td>\n",
       "      <td>1996.069257</td>\n",
       "      <td>0.000000</td>\n",
       "      <td>1996.069257</td>\n",
       "      <td>1996.069257</td>\n",
       "      <td>[[0,1]]</td>\n",
       "      <td>1.652454</td>\n",
       "      <td>0</td>\n",
       "      <td>POINT(-86.0604782104492 40.0928688049316)</td>\n",
       "    </tr>\n",
       "    <tr>\n",
       "      <td>2</td>\n",
       "      <td>32031980200</td>\n",
       "      <td>Nevada</td>\n",
       "      <td>39.635529</td>\n",
       "      <td>39.548290</td>\n",
       "      <td>-119.845078</td>\n",
       "      <td>-120.001953</td>\n",
       "      <td>39.588264</td>\n",
       "      <td>-119.929153</td>\n",
       "      <td>1315.80</td>\n",
       "      <td>2</td>\n",
       "      <td>...</td>\n",
       "      <td>3770.151343</td>\n",
       "      <td>0.000000</td>\n",
       "      <td>0.000000</td>\n",
       "      <td>6613.918689</td>\n",
       "      <td>2856.484558</td>\n",
       "      <td>10384.070032</td>\n",
       "      <td>[[0,2]]</td>\n",
       "      <td>2.761211</td>\n",
       "      <td>0</td>\n",
       "      <td>POINT(-119.929153442383 39.588264465332)</td>\n",
       "    </tr>\n",
       "    <tr>\n",
       "      <td>3</td>\n",
       "      <td>01055010700</td>\n",
       "      <td>Alabama</td>\n",
       "      <td>34.152290</td>\n",
       "      <td>33.987690</td>\n",
       "      <td>-85.822540</td>\n",
       "      <td>-85.987312</td>\n",
       "      <td>34.065083</td>\n",
       "      <td>-85.893082</td>\n",
       "      <td>1061.65</td>\n",
       "      <td>1</td>\n",
       "      <td>...</td>\n",
       "      <td>3091.955518</td>\n",
       "      <td>0.000000</td>\n",
       "      <td>0.000000</td>\n",
       "      <td>0.000000</td>\n",
       "      <td>3091.955518</td>\n",
       "      <td>3091.955518</td>\n",
       "      <td>[[0,1]]</td>\n",
       "      <td>1.838434</td>\n",
       "      <td>0</td>\n",
       "      <td>POINT(-85.8930816650391 34.0650825500488)</td>\n",
       "    </tr>\n",
       "    <tr>\n",
       "      <td>4</td>\n",
       "      <td>42043024700</td>\n",
       "      <td>Pennsylvania</td>\n",
       "      <td>40.571880</td>\n",
       "      <td>40.336391</td>\n",
       "      <td>-76.535408</td>\n",
       "      <td>-77.027008</td>\n",
       "      <td>40.425526</td>\n",
       "      <td>-76.812088</td>\n",
       "      <td>987.70</td>\n",
       "      <td>2</td>\n",
       "      <td>...</td>\n",
       "      <td>5655.770197</td>\n",
       "      <td>0.000000</td>\n",
       "      <td>1154.441217</td>\n",
       "      <td>2742.696204</td>\n",
       "      <td>2687.391833</td>\n",
       "      <td>9552.907617</td>\n",
       "      <td>[[0,1],[5,1]]</td>\n",
       "      <td>6.070497</td>\n",
       "      <td>0</td>\n",
       "      <td>POINT(-76.8120880126953 40.4255256652832)</td>\n",
       "    </tr>\n",
       "  </tbody>\n",
       "</table>\n",
       "<p>5 rows × 32 columns</p>\n",
       "</div>"
      ],
      "text/plain": [
       "   region_name    state_name    lat_max    lat_min     lng_max     lng_min  \\\n",
       "0  13115000201       Georgia  34.371120  34.287239  -85.117592  -85.231651   \n",
       "1  18057110512       Indiana  40.101791  40.076389  -86.038544  -86.090332   \n",
       "2  32031980200        Nevada  39.635529  39.548290 -119.845078 -120.001953   \n",
       "3  01055010700       Alabama  34.152290  33.987690  -85.822540  -85.987312   \n",
       "4  42043024700  Pennsylvania  40.571880  40.336391  -76.535408  -77.027008   \n",
       "\n",
       "     lat_avg     lng_avg  yearly_sunlight_kwh_kw_threshold_avg  \\\n",
       "0  34.330746  -85.169342                               1055.70   \n",
       "1  40.092869  -86.060478                                983.45   \n",
       "2  39.588264 -119.929153                               1315.80   \n",
       "3  34.065083  -85.893082                               1061.65   \n",
       "4  40.425526  -76.812088                                987.70   \n",
       "\n",
       "   count_qualified  ...  yearly_sunlight_kwh_s  yearly_sunlight_kwh_e  \\\n",
       "0                1  ...            1350.524658            1063.822833   \n",
       "1                1  ...               0.000000               0.000000   \n",
       "2                2  ...            3770.151343               0.000000   \n",
       "3                1  ...            3091.955518               0.000000   \n",
       "4                2  ...            5655.770197               0.000000   \n",
       "\n",
       "   yearly_sunlight_kwh_w  yearly_sunlight_kwh_f  yearly_sunlight_kwh_median  \\\n",
       "0               0.000000               0.000000                 2414.347491   \n",
       "1            1996.069257               0.000000                 1996.069257   \n",
       "2               0.000000            6613.918689                 2856.484558   \n",
       "3               0.000000               0.000000                 3091.955518   \n",
       "4            1154.441217            2742.696204                 2687.391833   \n",
       "\n",
       "   yearly_sunlight_kwh_total  install_size_kw_buckets  \\\n",
       "0                2414.347491                  [[0,1]]   \n",
       "1                1996.069257                  [[0,1]]   \n",
       "2               10384.070032                  [[0,2]]   \n",
       "3                3091.955518                  [[0,1]]   \n",
       "4                9552.907617            [[0,1],[5,1]]   \n",
       "\n",
       "   carbon_offset_metric_tons  existing_installs_count  \\\n",
       "0                   1.435537                        0   \n",
       "1                   1.652454                        0   \n",
       "2                   2.761211                        0   \n",
       "3                   1.838434                        0   \n",
       "4                   6.070497                        0   \n",
       "\n",
       "                                center_point  \n",
       "0  POINT(-85.1693420410156 34.3307456970215)  \n",
       "1  POINT(-86.0604782104492 40.0928688049316)  \n",
       "2   POINT(-119.929153442383 39.588264465332)  \n",
       "3  POINT(-85.8930816650391 34.0650825500488)  \n",
       "4  POINT(-76.8120880126953 40.4255256652832)  \n",
       "\n",
       "[5 rows x 32 columns]"
      ]
     },
     "execution_count": 7,
     "metadata": {},
     "output_type": "execute_result"
    }
   ],
   "source": [
    "df=gcp2df(query)\n",
    "df.head()"
   ]
  },
  {
   "cell_type": "code",
   "execution_count": 8,
   "metadata": {},
   "outputs": [
    {
     "data": {
      "text/plain": [
       "Index(['region_name', 'state_name', 'lat_max', 'lat_min', 'lng_max', 'lng_min',\n",
       "       'lat_avg', 'lng_avg', 'yearly_sunlight_kwh_kw_threshold_avg',\n",
       "       'count_qualified', 'percent_covered', 'percent_qualified',\n",
       "       'number_of_panels_n', 'number_of_panels_s', 'number_of_panels_e',\n",
       "       'number_of_panels_w', 'number_of_panels_f', 'number_of_panels_median',\n",
       "       'number_of_panels_total', 'kw_median', 'kw_total',\n",
       "       'yearly_sunlight_kwh_n', 'yearly_sunlight_kwh_s',\n",
       "       'yearly_sunlight_kwh_e', 'yearly_sunlight_kwh_w',\n",
       "       'yearly_sunlight_kwh_f', 'yearly_sunlight_kwh_median',\n",
       "       'yearly_sunlight_kwh_total', 'install_size_kw_buckets',\n",
       "       'carbon_offset_metric_tons', 'existing_installs_count', 'center_point'],\n",
       "      dtype='object')"
      ]
     },
     "execution_count": 8,
     "metadata": {},
     "output_type": "execute_result"
    }
   ],
   "source": [
    "df.columns"
   ]
  },
  {
   "cell_type": "code",
   "execution_count": 9,
   "metadata": {},
   "outputs": [],
   "source": [
    "query2= \"\"\"SELECT * FROM `bigquery-public-data.sunroof_solar.solar_potential_by_postal_code`\"\"\""
   ]
  },
  {
   "cell_type": "code",
   "execution_count": 10,
   "metadata": {},
   "outputs": [
    {
     "data": {
      "text/html": [
       "<div>\n",
       "<style scoped>\n",
       "    .dataframe tbody tr th:only-of-type {\n",
       "        vertical-align: middle;\n",
       "    }\n",
       "\n",
       "    .dataframe tbody tr th {\n",
       "        vertical-align: top;\n",
       "    }\n",
       "\n",
       "    .dataframe thead th {\n",
       "        text-align: right;\n",
       "    }\n",
       "</style>\n",
       "<table border=\"1\" class=\"dataframe\">\n",
       "  <thead>\n",
       "    <tr style=\"text-align: right;\">\n",
       "      <th></th>\n",
       "      <th>region_name</th>\n",
       "      <th>state_name</th>\n",
       "      <th>lat_max</th>\n",
       "      <th>lat_min</th>\n",
       "      <th>lng_max</th>\n",
       "      <th>lng_min</th>\n",
       "      <th>lat_avg</th>\n",
       "      <th>lng_avg</th>\n",
       "      <th>yearly_sunlight_kwh_kw_threshold_avg</th>\n",
       "      <th>count_qualified</th>\n",
       "      <th>...</th>\n",
       "      <th>yearly_sunlight_kwh_s</th>\n",
       "      <th>yearly_sunlight_kwh_e</th>\n",
       "      <th>yearly_sunlight_kwh_w</th>\n",
       "      <th>yearly_sunlight_kwh_f</th>\n",
       "      <th>yearly_sunlight_kwh_median</th>\n",
       "      <th>yearly_sunlight_kwh_total</th>\n",
       "      <th>install_size_kw_buckets</th>\n",
       "      <th>carbon_offset_metric_tons</th>\n",
       "      <th>existing_installs_count</th>\n",
       "      <th>center_point</th>\n",
       "    </tr>\n",
       "  </thead>\n",
       "  <tbody>\n",
       "    <tr>\n",
       "      <td>0</td>\n",
       "      <td>20303</td>\n",
       "      <td>District of Columbia</td>\n",
       "      <td>38.876371</td>\n",
       "      <td>38.874446</td>\n",
       "      <td>-77.003766</td>\n",
       "      <td>-77.005605</td>\n",
       "      <td>38.875346</td>\n",
       "      <td>-77.004523</td>\n",
       "      <td>1037.00</td>\n",
       "      <td>0</td>\n",
       "      <td>...</td>\n",
       "      <td>0.0</td>\n",
       "      <td>0.0</td>\n",
       "      <td>0.0</td>\n",
       "      <td>0.0</td>\n",
       "      <td>NaN</td>\n",
       "      <td>NaN</td>\n",
       "      <td>None</td>\n",
       "      <td>0.0</td>\n",
       "      <td>0</td>\n",
       "      <td>POINT(-77.0045229333333 38.8753456)</td>\n",
       "    </tr>\n",
       "    <tr>\n",
       "      <td>1</td>\n",
       "      <td>21532</td>\n",
       "      <td>Maryland</td>\n",
       "      <td>39.722246</td>\n",
       "      <td>39.569701</td>\n",
       "      <td>-78.860691</td>\n",
       "      <td>-79.091712</td>\n",
       "      <td>39.651014</td>\n",
       "      <td>-78.930906</td>\n",
       "      <td>971.55</td>\n",
       "      <td>0</td>\n",
       "      <td>...</td>\n",
       "      <td>0.0</td>\n",
       "      <td>0.0</td>\n",
       "      <td>0.0</td>\n",
       "      <td>0.0</td>\n",
       "      <td>NaN</td>\n",
       "      <td>NaN</td>\n",
       "      <td>None</td>\n",
       "      <td>0.0</td>\n",
       "      <td>0</td>\n",
       "      <td>POINT(-78.9309058462436 39.6510141030593)</td>\n",
       "    </tr>\n",
       "    <tr>\n",
       "      <td>2</td>\n",
       "      <td>24069</td>\n",
       "      <td>Virginia</td>\n",
       "      <td>36.655149</td>\n",
       "      <td>36.541640</td>\n",
       "      <td>-79.509898</td>\n",
       "      <td>-79.702540</td>\n",
       "      <td>36.598786</td>\n",
       "      <td>-79.640503</td>\n",
       "      <td>1068.45</td>\n",
       "      <td>0</td>\n",
       "      <td>...</td>\n",
       "      <td>0.0</td>\n",
       "      <td>0.0</td>\n",
       "      <td>0.0</td>\n",
       "      <td>0.0</td>\n",
       "      <td>NaN</td>\n",
       "      <td>NaN</td>\n",
       "      <td>None</td>\n",
       "      <td>0.0</td>\n",
       "      <td>0</td>\n",
       "      <td>POINT(-79.6405031730145 36.5987864088448)</td>\n",
       "    </tr>\n",
       "    <tr>\n",
       "      <td>3</td>\n",
       "      <td>24724</td>\n",
       "      <td>West Virginia</td>\n",
       "      <td>37.359420</td>\n",
       "      <td>37.327022</td>\n",
       "      <td>-81.282143</td>\n",
       "      <td>-81.338330</td>\n",
       "      <td>37.331934</td>\n",
       "      <td>-81.314917</td>\n",
       "      <td>1028.50</td>\n",
       "      <td>0</td>\n",
       "      <td>...</td>\n",
       "      <td>0.0</td>\n",
       "      <td>0.0</td>\n",
       "      <td>0.0</td>\n",
       "      <td>0.0</td>\n",
       "      <td>NaN</td>\n",
       "      <td>NaN</td>\n",
       "      <td>None</td>\n",
       "      <td>0.0</td>\n",
       "      <td>0</td>\n",
       "      <td>POINT(-81.3149169875 37.331933825)</td>\n",
       "    </tr>\n",
       "    <tr>\n",
       "      <td>4</td>\n",
       "      <td>28357</td>\n",
       "      <td>North Carolina</td>\n",
       "      <td>34.961358</td>\n",
       "      <td>34.857796</td>\n",
       "      <td>-79.003998</td>\n",
       "      <td>-79.160387</td>\n",
       "      <td>34.916952</td>\n",
       "      <td>-79.081624</td>\n",
       "      <td>1095.65</td>\n",
       "      <td>0</td>\n",
       "      <td>...</td>\n",
       "      <td>0.0</td>\n",
       "      <td>0.0</td>\n",
       "      <td>0.0</td>\n",
       "      <td>0.0</td>\n",
       "      <td>NaN</td>\n",
       "      <td>NaN</td>\n",
       "      <td>None</td>\n",
       "      <td>0.0</td>\n",
       "      <td>0</td>\n",
       "      <td>POINT(-79.0816239424634 34.9169522628768)</td>\n",
       "    </tr>\n",
       "  </tbody>\n",
       "</table>\n",
       "<p>5 rows × 32 columns</p>\n",
       "</div>"
      ],
      "text/plain": [
       "  region_name            state_name    lat_max    lat_min    lng_max  \\\n",
       "0       20303  District of Columbia  38.876371  38.874446 -77.003766   \n",
       "1       21532              Maryland  39.722246  39.569701 -78.860691   \n",
       "2       24069              Virginia  36.655149  36.541640 -79.509898   \n",
       "3       24724         West Virginia  37.359420  37.327022 -81.282143   \n",
       "4       28357        North Carolina  34.961358  34.857796 -79.003998   \n",
       "\n",
       "     lng_min    lat_avg    lng_avg  yearly_sunlight_kwh_kw_threshold_avg  \\\n",
       "0 -77.005605  38.875346 -77.004523                               1037.00   \n",
       "1 -79.091712  39.651014 -78.930906                                971.55   \n",
       "2 -79.702540  36.598786 -79.640503                               1068.45   \n",
       "3 -81.338330  37.331934 -81.314917                               1028.50   \n",
       "4 -79.160387  34.916952 -79.081624                               1095.65   \n",
       "\n",
       "   count_qualified  ...  yearly_sunlight_kwh_s  yearly_sunlight_kwh_e  \\\n",
       "0                0  ...                    0.0                    0.0   \n",
       "1                0  ...                    0.0                    0.0   \n",
       "2                0  ...                    0.0                    0.0   \n",
       "3                0  ...                    0.0                    0.0   \n",
       "4                0  ...                    0.0                    0.0   \n",
       "\n",
       "   yearly_sunlight_kwh_w  yearly_sunlight_kwh_f  yearly_sunlight_kwh_median  \\\n",
       "0                    0.0                    0.0                         NaN   \n",
       "1                    0.0                    0.0                         NaN   \n",
       "2                    0.0                    0.0                         NaN   \n",
       "3                    0.0                    0.0                         NaN   \n",
       "4                    0.0                    0.0                         NaN   \n",
       "\n",
       "   yearly_sunlight_kwh_total  install_size_kw_buckets  \\\n",
       "0                        NaN                     None   \n",
       "1                        NaN                     None   \n",
       "2                        NaN                     None   \n",
       "3                        NaN                     None   \n",
       "4                        NaN                     None   \n",
       "\n",
       "   carbon_offset_metric_tons  existing_installs_count  \\\n",
       "0                        0.0                        0   \n",
       "1                        0.0                        0   \n",
       "2                        0.0                        0   \n",
       "3                        0.0                        0   \n",
       "4                        0.0                        0   \n",
       "\n",
       "                                center_point  \n",
       "0        POINT(-77.0045229333333 38.8753456)  \n",
       "1  POINT(-78.9309058462436 39.6510141030593)  \n",
       "2  POINT(-79.6405031730145 36.5987864088448)  \n",
       "3         POINT(-81.3149169875 37.331933825)  \n",
       "4  POINT(-79.0816239424634 34.9169522628768)  \n",
       "\n",
       "[5 rows x 32 columns]"
      ]
     },
     "execution_count": 10,
     "metadata": {},
     "output_type": "execute_result"
    }
   ],
   "source": [
    "dfpost=gcp2df(query2)\n",
    "dfpost.head()"
   ]
  },
  {
   "cell_type": "code",
   "execution_count": 11,
   "metadata": {},
   "outputs": [
    {
     "data": {
      "text/plain": [
       "Index(['region_name', 'state_name', 'lat_max', 'lat_min', 'lng_max', 'lng_min',\n",
       "       'lat_avg', 'lng_avg', 'yearly_sunlight_kwh_kw_threshold_avg',\n",
       "       'count_qualified', 'percent_covered', 'percent_qualified',\n",
       "       'number_of_panels_n', 'number_of_panels_s', 'number_of_panels_e',\n",
       "       'number_of_panels_w', 'number_of_panels_f', 'number_of_panels_median',\n",
       "       'number_of_panels_total', 'kw_median', 'kw_total',\n",
       "       'yearly_sunlight_kwh_n', 'yearly_sunlight_kwh_s',\n",
       "       'yearly_sunlight_kwh_e', 'yearly_sunlight_kwh_w',\n",
       "       'yearly_sunlight_kwh_f', 'yearly_sunlight_kwh_median',\n",
       "       'yearly_sunlight_kwh_total', 'install_size_kw_buckets',\n",
       "       'carbon_offset_metric_tons', 'existing_installs_count', 'center_point'],\n",
       "      dtype='object')"
      ]
     },
     "execution_count": 11,
     "metadata": {},
     "output_type": "execute_result"
    }
   ],
   "source": [
    "dfpost.columns"
   ]
  },
  {
   "cell_type": "code",
   "execution_count": 12,
   "metadata": {},
   "outputs": [
    {
     "data": {
      "text/plain": [
       "56940"
      ]
     },
     "execution_count": 12,
     "metadata": {},
     "output_type": "execute_result"
    }
   ],
   "source": [
    "len(df)"
   ]
  },
  {
   "cell_type": "code",
   "execution_count": 13,
   "metadata": {},
   "outputs": [
    {
     "data": {
      "text/plain": [
       "11516"
      ]
     },
     "execution_count": 13,
     "metadata": {},
     "output_type": "execute_result"
    }
   ],
   "source": [
    "len(dfpost)"
   ]
  },
  {
   "cell_type": "code",
   "execution_count": 14,
   "metadata": {},
   "outputs": [
    {
     "data": {
      "text/plain": [
       "array([[<matplotlib.axes._subplots.AxesSubplot object at 0x7f8d0a284390>]],\n",
       "      dtype=object)"
      ]
     },
     "execution_count": 14,
     "metadata": {},
     "output_type": "execute_result"
    },
    {
     "data": {
      "image/png": "[encoded data removed]",
      "text/plain": [
       "<Figure size 432x288 with 1 Axes>"
      ]
     },
     "metadata": {
      "needs_background": "light"
     },
     "output_type": "display_data"
    }
   ],
   "source": [
    "df.hist(column='yearly_sunlight_kwh_kw_threshold_avg')"
   ]
  },
  {
   "cell_type": "code",
   "execution_count": 15,
   "metadata": {},
   "outputs": [
    {
     "data": {
      "text/plain": [
       "52589"
      ]
     },
     "execution_count": 15,
     "metadata": {},
     "output_type": "execute_result"
    }
   ],
   "source": [
    "len(df.groupby('region_name'))"
   ]
  },
  {
   "cell_type": "code",
   "execution_count": 16,
   "metadata": {},
   "outputs": [
    {
     "data": {
      "text/plain": [
       "70"
      ]
     },
     "execution_count": 16,
     "metadata": {},
     "output_type": "execute_result"
    }
   ],
   "source": [
    "len(df.groupby('state_name'))"
   ]
  },
  {
   "cell_type": "code",
   "execution_count": 17,
   "metadata": {},
   "outputs": [
    {
     "data": {
      "text/html": [
       "<div>\n",
       "<style scoped>\n",
       "    .dataframe tbody tr th:only-of-type {\n",
       "        vertical-align: middle;\n",
       "    }\n",
       "\n",
       "    .dataframe tbody tr th {\n",
       "        vertical-align: top;\n",
       "    }\n",
       "\n",
       "    .dataframe thead th {\n",
       "        text-align: right;\n",
       "    }\n",
       "</style>\n",
       "<table border=\"1\" class=\"dataframe\">\n",
       "  <thead>\n",
       "    <tr style=\"text-align: right;\">\n",
       "      <th></th>\n",
       "      <th>lat_max</th>\n",
       "      <th>lat_min</th>\n",
       "      <th>lng_max</th>\n",
       "      <th>lng_min</th>\n",
       "      <th>lat_avg</th>\n",
       "      <th>lng_avg</th>\n",
       "      <th>yearly_sunlight_kwh_kw_threshold_avg</th>\n",
       "      <th>count_qualified</th>\n",
       "      <th>percent_covered</th>\n",
       "      <th>percent_qualified</th>\n",
       "      <th>...</th>\n",
       "      <th>kw_total</th>\n",
       "      <th>yearly_sunlight_kwh_n</th>\n",
       "      <th>yearly_sunlight_kwh_s</th>\n",
       "      <th>yearly_sunlight_kwh_e</th>\n",
       "      <th>yearly_sunlight_kwh_w</th>\n",
       "      <th>yearly_sunlight_kwh_f</th>\n",
       "      <th>yearly_sunlight_kwh_median</th>\n",
       "      <th>yearly_sunlight_kwh_total</th>\n",
       "      <th>carbon_offset_metric_tons</th>\n",
       "      <th>existing_installs_count</th>\n",
       "    </tr>\n",
       "  </thead>\n",
       "  <tbody>\n",
       "    <tr>\n",
       "      <td>count</td>\n",
       "      <td>56940.000000</td>\n",
       "      <td>56940.000000</td>\n",
       "      <td>56940.000000</td>\n",
       "      <td>56940.000000</td>\n",
       "      <td>56940.000000</td>\n",
       "      <td>56940.000000</td>\n",
       "      <td>52592.000000</td>\n",
       "      <td>56940.000000</td>\n",
       "      <td>56940.000000</td>\n",
       "      <td>56940.000000</td>\n",
       "      <td>...</td>\n",
       "      <td>52569.000000</td>\n",
       "      <td>5.694000e+04</td>\n",
       "      <td>5.694000e+04</td>\n",
       "      <td>5.694000e+04</td>\n",
       "      <td>5.694000e+04</td>\n",
       "      <td>5.694000e+04</td>\n",
       "      <td>5.691500e+04</td>\n",
       "      <td>5.256900e+04</td>\n",
       "      <td>56940.000000</td>\n",
       "      <td>56940.000000</td>\n",
       "    </tr>\n",
       "    <tr>\n",
       "      <td>mean</td>\n",
       "      <td>37.347191</td>\n",
       "      <td>37.313784</td>\n",
       "      <td>-91.978647</td>\n",
       "      <td>-92.022167</td>\n",
       "      <td>37.330517</td>\n",
       "      <td>-92.000438</td>\n",
       "      <td>1089.349227</td>\n",
       "      <td>988.676010</td>\n",
       "      <td>97.212301</td>\n",
       "      <td>77.014910</td>\n",
       "      <td>...</td>\n",
       "      <td>21739.434705</td>\n",
       "      <td>1.302215e+06</td>\n",
       "      <td>5.802412e+06</td>\n",
       "      <td>3.430629e+06</td>\n",
       "      <td>4.199708e+06</td>\n",
       "      <td>1.114446e+07</td>\n",
       "      <td>1.530839e+04</td>\n",
       "      <td>2.803125e+07</td>\n",
       "      <td>13821.609715</td>\n",
       "      <td>11.877959</td>\n",
       "    </tr>\n",
       "    <tr>\n",
       "      <td>std</td>\n",
       "      <td>5.357167</td>\n",
       "      <td>5.358197</td>\n",
       "      <td>17.056080</td>\n",
       "      <td>17.058471</td>\n",
       "      <td>5.357645</td>\n",
       "      <td>17.057243</td>\n",
       "      <td>140.884050</td>\n",
       "      <td>773.908102</td>\n",
       "      <td>261.115225</td>\n",
       "      <td>25.443911</td>\n",
       "      <td>...</td>\n",
       "      <td>21061.148556</td>\n",
       "      <td>1.933223e+06</td>\n",
       "      <td>5.981928e+06</td>\n",
       "      <td>3.810297e+06</td>\n",
       "      <td>4.712230e+06</td>\n",
       "      <td>1.974159e+07</td>\n",
       "      <td>2.184883e+04</td>\n",
       "      <td>2.815755e+07</td>\n",
       "      <td>15823.811050</td>\n",
       "      <td>34.506231</td>\n",
       "    </tr>\n",
       "    <tr>\n",
       "      <td>min</td>\n",
       "      <td>17.996130</td>\n",
       "      <td>17.874559</td>\n",
       "      <td>-158.113037</td>\n",
       "      <td>-158.145645</td>\n",
       "      <td>17.955750</td>\n",
       "      <td>-158.124237</td>\n",
       "      <td>687.650000</td>\n",
       "      <td>0.000000</td>\n",
       "      <td>0.010883</td>\n",
       "      <td>0.000000</td>\n",
       "      <td>...</td>\n",
       "      <td>2.000000</td>\n",
       "      <td>0.000000e+00</td>\n",
       "      <td>0.000000e+00</td>\n",
       "      <td>0.000000e+00</td>\n",
       "      <td>0.000000e+00</td>\n",
       "      <td>0.000000e+00</td>\n",
       "      <td>1.996069e+03</td>\n",
       "      <td>1.996069e+03</td>\n",
       "      <td>0.000000</td>\n",
       "      <td>0.000000</td>\n",
       "    </tr>\n",
       "    <tr>\n",
       "      <td>25%</td>\n",
       "      <td>33.827895</td>\n",
       "      <td>33.801392</td>\n",
       "      <td>-104.728594</td>\n",
       "      <td>-104.770870</td>\n",
       "      <td>33.814106</td>\n",
       "      <td>-104.747137</td>\n",
       "      <td>985.150000</td>\n",
       "      <td>441.000000</td>\n",
       "      <td>97.822414</td>\n",
       "      <td>72.743715</td>\n",
       "      <td>...</td>\n",
       "      <td>8815.500000</td>\n",
       "      <td>1.256128e+05</td>\n",
       "      <td>1.744908e+06</td>\n",
       "      <td>8.277858e+05</td>\n",
       "      <td>1.006919e+06</td>\n",
       "      <td>2.240977e+06</td>\n",
       "      <td>8.635422e+03</td>\n",
       "      <td>1.079161e+07</td>\n",
       "      <td>4226.950039</td>\n",
       "      <td>0.000000</td>\n",
       "    </tr>\n",
       "    <tr>\n",
       "      <td>50%</td>\n",
       "      <td>38.686016</td>\n",
       "      <td>38.660360</td>\n",
       "      <td>-86.626709</td>\n",
       "      <td>-86.689068</td>\n",
       "      <td>38.671204</td>\n",
       "      <td>-86.658264</td>\n",
       "      <td>1063.350000</td>\n",
       "      <td>900.000000</td>\n",
       "      <td>99.568594</td>\n",
       "      <td>84.407049</td>\n",
       "      <td>...</td>\n",
       "      <td>16832.750000</td>\n",
       "      <td>5.806298e+05</td>\n",
       "      <td>4.410637e+06</td>\n",
       "      <td>2.479556e+06</td>\n",
       "      <td>3.010674e+06</td>\n",
       "      <td>5.687389e+06</td>\n",
       "      <td>1.233904e+04</td>\n",
       "      <td>2.115751e+07</td>\n",
       "      <td>9528.841995</td>\n",
       "      <td>1.000000</td>\n",
       "    </tr>\n",
       "    <tr>\n",
       "      <td>75%</td>\n",
       "      <td>41.169189</td>\n",
       "      <td>41.133379</td>\n",
       "      <td>-79.018103</td>\n",
       "      <td>-79.076408</td>\n",
       "      <td>41.150883</td>\n",
       "      <td>-79.045818</td>\n",
       "      <td>1156.850000</td>\n",
       "      <td>1385.000000</td>\n",
       "      <td>100.198827</td>\n",
       "      <td>93.042527</td>\n",
       "      <td>...</td>\n",
       "      <td>28193.250000</td>\n",
       "      <td>1.722144e+06</td>\n",
       "      <td>8.063248e+06</td>\n",
       "      <td>4.777712e+06</td>\n",
       "      <td>5.819210e+06</td>\n",
       "      <td>1.281642e+07</td>\n",
       "      <td>1.757790e+04</td>\n",
       "      <td>3.644056e+07</td>\n",
       "      <td>18343.721327</td>\n",
       "      <td>7.000000</td>\n",
       "    </tr>\n",
       "    <tr>\n",
       "      <td>max</td>\n",
       "      <td>65.454468</td>\n",
       "      <td>64.848373</td>\n",
       "      <td>-65.862587</td>\n",
       "      <td>-65.887909</td>\n",
       "      <td>64.988930</td>\n",
       "      <td>-65.878288</td>\n",
       "      <td>1437.350000</td>\n",
       "      <td>22503.000000</td>\n",
       "      <td>36614.285714</td>\n",
       "      <td>100.000000</td>\n",
       "      <td>...</td>\n",
       "      <td>637502.250000</td>\n",
       "      <td>7.999626e+07</td>\n",
       "      <td>1.857064e+08</td>\n",
       "      <td>1.489152e+08</td>\n",
       "      <td>1.682562e+08</td>\n",
       "      <td>8.047853e+08</td>\n",
       "      <td>2.258937e+06</td>\n",
       "      <td>8.248353e+08</td>\n",
       "      <td>629858.407707</td>\n",
       "      <td>847.000000</td>\n",
       "    </tr>\n",
       "  </tbody>\n",
       "</table>\n",
       "<p>8 rows × 28 columns</p>\n",
       "</div>"
      ],
      "text/plain": [
       "            lat_max       lat_min       lng_max       lng_min       lat_avg  \\\n",
       "count  56940.000000  56940.000000  56940.000000  56940.000000  56940.000000   \n",
       "mean      37.347191     37.313784    -91.978647    -92.022167     37.330517   \n",
       "std        5.357167      5.358197     17.056080     17.058471      5.357645   \n",
       "min       17.996130     17.874559   -158.113037   -158.145645     17.955750   \n",
       "25%       33.827895     33.801392   -104.728594   -104.770870     33.814106   \n",
       "50%       38.686016     38.660360    -86.626709    -86.689068     38.671204   \n",
       "75%       41.169189     41.133379    -79.018103    -79.076408     41.150883   \n",
       "max       65.454468     64.848373    -65.862587    -65.887909     64.988930   \n",
       "\n",
       "            lng_avg  yearly_sunlight_kwh_kw_threshold_avg  count_qualified  \\\n",
       "count  56940.000000                          52592.000000     56940.000000   \n",
       "mean     -92.000438                           1089.349227       988.676010   \n",
       "std       17.057243                            140.884050       773.908102   \n",
       "min     -158.124237                            687.650000         0.000000   \n",
       "25%     -104.747137                            985.150000       441.000000   \n",
       "50%      -86.658264                           1063.350000       900.000000   \n",
       "75%      -79.045818                           1156.850000      1385.000000   \n",
       "max      -65.878288                           1437.350000     22503.000000   \n",
       "\n",
       "       percent_covered  percent_qualified  ...       kw_total  \\\n",
       "count     56940.000000       56940.000000  ...   52569.000000   \n",
       "mean         97.212301          77.014910  ...   21739.434705   \n",
       "std         261.115225          25.443911  ...   21061.148556   \n",
       "min           0.010883           0.000000  ...       2.000000   \n",
       "25%          97.822414          72.743715  ...    8815.500000   \n",
       "50%          99.568594          84.407049  ...   16832.750000   \n",
       "75%         100.198827          93.042527  ...   28193.250000   \n",
       "max       36614.285714         100.000000  ...  637502.250000   \n",
       "\n",
       "       yearly_sunlight_kwh_n  yearly_sunlight_kwh_s  yearly_sunlight_kwh_e  \\\n",
       "count           5.694000e+04           5.694000e+04           5.694000e+04   \n",
       "mean            1.302215e+06           5.802412e+06           3.430629e+06   \n",
       "std             1.933223e+06           5.981928e+06           3.810297e+06   \n",
       "min             0.000000e+00           0.000000e+00           0.000000e+00   \n",
       "25%             1.256128e+05           1.744908e+06           8.277858e+05   \n",
       "50%             5.806298e+05           4.410637e+06           2.479556e+06   \n",
       "75%             1.722144e+06           8.063248e+06           4.777712e+06   \n",
       "max             7.999626e+07           1.857064e+08           1.489152e+08   \n",
       "\n",
       "       yearly_sunlight_kwh_w  yearly_sunlight_kwh_f  \\\n",
       "count           5.694000e+04           5.694000e+04   \n",
       "mean            4.199708e+06           1.114446e+07   \n",
       "std             4.712230e+06           1.974159e+07   \n",
       "min             0.000000e+00           0.000000e+00   \n",
       "25%             1.006919e+06           2.240977e+06   \n",
       "50%             3.010674e+06           5.687389e+06   \n",
       "75%             5.819210e+06           1.281642e+07   \n",
       "max             1.682562e+08           8.047853e+08   \n",
       "\n",
       "       yearly_sunlight_kwh_median  yearly_sunlight_kwh_total  \\\n",
       "count                5.691500e+04               5.256900e+04   \n",
       "mean                 1.530839e+04               2.803125e+07   \n",
       "std                  2.184883e+04               2.815755e+07   \n",
       "min                  1.996069e+03               1.996069e+03   \n",
       "25%                  8.635422e+03               1.079161e+07   \n",
       "50%                  1.233904e+04               2.115751e+07   \n",
       "75%                  1.757790e+04               3.644056e+07   \n",
       "max                  2.258937e+06               8.248353e+08   \n",
       "\n",
       "       carbon_offset_metric_tons  existing_installs_count  \n",
       "count               56940.000000             56940.000000  \n",
       "mean                13821.609715                11.877959  \n",
       "std                 15823.811050                34.506231  \n",
       "min                     0.000000                 0.000000  \n",
       "25%                  4226.950039                 0.000000  \n",
       "50%                  9528.841995                 1.000000  \n",
       "75%                 18343.721327                 7.000000  \n",
       "max                629858.407707               847.000000  \n",
       "\n",
       "[8 rows x 28 columns]"
      ]
     },
     "execution_count": 17,
     "metadata": {},
     "output_type": "execute_result"
    }
   ],
   "source": [
    "df.describe()"
   ]
  },
  {
   "cell_type": "code",
   "execution_count": 18,
   "metadata": {},
   "outputs": [],
   "source": [
    "location=['lat_max', 'lat_min', 'lat_avg', 'lng_max', 'lng_min', 'lng_avg']"
   ]
  },
  {
   "cell_type": "code",
   "execution_count": 19,
   "metadata": {},
   "outputs": [
    {
     "data": {
      "image/png": "[encoded data removed]",
      "text/plain": [
       "<Figure size 432x288 with 1 Axes>"
      ]
     },
     "metadata": {
      "needs_background": "light"
     },
     "output_type": "display_data"
    },
    {
     "data": {
      "image/png": "[encoded data removed]",
      "text/plain": [
       "<Figure size 432x288 with 1 Axes>"
      ]
     },
     "metadata": {
      "needs_background": "light"
     },
     "output_type": "display_data"
    },
    {
     "data": {
      "image/png": "[encoded data removed]",
      "text/plain": [
       "<Figure size 432x288 with 1 Axes>"
      ]
     },
     "metadata": {
      "needs_background": "light"
     },
     "output_type": "display_data"
    },
    {
     "data": {
      "image/png": "[encoded data removed]",
      "text/plain": [
       "<Figure size 432x288 with 1 Axes>"
      ]
     },
     "metadata": {
      "needs_background": "light"
     },
     "output_type": "display_data"
    },
    {
     "data": {
      "image/png": "[encoded data removed]",
      "text/plain": [
       "<Figure size 432x288 with 1 Axes>"
      ]
     },
     "metadata": {
      "needs_background": "light"
     },
     "output_type": "display_data"
    },
    {
     "data": {
      "image/png": "[encoded data removed]",
      "text/plain": [
       "<Figure size 432x288 with 1 Axes>"
      ]
     },
     "metadata": {
      "needs_background": "light"
     },
     "output_type": "display_data"
    }
   ],
   "source": [
    "for i in location:\n",
    "    df.plot.scatter(y='yearly_sunlight_kwh_kw_threshold_avg',x=i)\n",
    "#lats 30-40 higher"
   ]
  },
  {
   "cell_type": "code",
   "execution_count": 20,
   "metadata": {},
   "outputs": [
    {
     "data": {
      "text/plain": [
       "<matplotlib.axes._subplots.AxesSubplot at 0x7f8d0017bbd0>"
      ]
     },
     "execution_count": 20,
     "metadata": {},
     "output_type": "execute_result"
    },
    {
     "data": {
      "image/png": "[encoded data removed]",
      "text/plain": [
       "<Figure size 1440x864 with 1 Axes>"
      ]
     },
     "metadata": {
      "needs_background": "light"
     },
     "output_type": "display_data"
    }
   ],
   "source": [
    "df.groupby(['state_name'])['yearly_sunlight_kwh_kw_threshold_avg'].mean().plot(kind='bar', figsize=(20,12))\n",
    "#NM, NV, AZ, CA, Quaynabo, Dorado"
   ]
  },
  {
   "cell_type": "code",
   "execution_count": 21,
   "metadata": {},
   "outputs": [
    {
     "data": {
      "text/plain": [
       "0        POINT(-85.1693420410156 34.3307456970215)\n",
       "1        POINT(-86.0604782104492 40.0928688049316)\n",
       "2         POINT(-119.929153442383 39.588264465332)\n",
       "3        POINT(-85.8930816650391 34.0650825500488)\n",
       "4        POINT(-76.8120880126953 40.4255256652832)\n",
       "                           ...                    \n",
       "56935    POINT(-118.592681884766 34.1914596557617)\n",
       "56936    POINT(-80.2876510620117 25.7963409423828)\n",
       "56937    POINT(-118.490676879883 34.2106323242188)\n",
       "56938    POINT(-96.3363723754883 30.6165580749512)\n",
       "56939    POINT(-77.4626388549805 39.0011787414551)\n",
       "Name: center_point, Length: 56940, dtype: object"
      ]
     },
     "execution_count": 21,
     "metadata": {},
     "output_type": "execute_result"
    }
   ],
   "source": [
    "df.center_point"
   ]
  },
  {
   "cell_type": "code",
   "execution_count": 39,
   "metadata": {},
   "outputs": [
    {
     "ename": "ModuleNotFoundError",
     "evalue": "No module named 'geoplot'",
     "output_type": "error",
     "traceback": [
      "\u001b[0;31m---------------------------------------------------------------------------\u001b[0m",
      "\u001b[0;31mModuleNotFoundError\u001b[0m                       Traceback (most recent call last)",
      "\u001b[0;32m<ipython-input-39-2eb4700a36a7>\u001b[0m in \u001b[0;36m<module>\u001b[0;34m\u001b[0m\n\u001b[1;32m      1\u001b[0m \u001b[0;32mimport\u001b[0m \u001b[0mgeopandas\u001b[0m\u001b[0;34m\u001b[0m\u001b[0;34m\u001b[0m\u001b[0m\n\u001b[0;32m----> 2\u001b[0;31m \u001b[0;32mimport\u001b[0m \u001b[0mgeoplot\u001b[0m\u001b[0;34m\u001b[0m\u001b[0;34m\u001b[0m\u001b[0m\n\u001b[0m\u001b[1;32m      3\u001b[0m \u001b[0;32mfrom\u001b[0m \u001b[0mshapely\u001b[0m \u001b[0;32mimport\u001b[0m \u001b[0mwkt\u001b[0m\u001b[0;34m\u001b[0m\u001b[0;34m\u001b[0m\u001b[0m\n\u001b[1;32m      4\u001b[0m \u001b[0;32mimport\u001b[0m \u001b[0mgeoplot\u001b[0m\u001b[0;34m.\u001b[0m\u001b[0mcrs\u001b[0m \u001b[0;32mas\u001b[0m \u001b[0mgcrs\u001b[0m\u001b[0;34m\u001b[0m\u001b[0;34m\u001b[0m\u001b[0m\n\u001b[1;32m      5\u001b[0m \u001b[0;34m\u001b[0m\u001b[0m\n",
      "\u001b[0;31mModuleNotFoundError\u001b[0m: No module named 'geoplot'"
     ]
    }
   ],
   "source": [
    "import geopandas\n",
    "import geoplot\n",
    "from shapely import wkt\n",
    "import geoplot.crs as gcrs\n",
    "\n",
    "ax = gplt.webmap(contiguous_usa, projection=gcrs.WebMercator())\n",
    "gplt.pointplot(continental_usa_cities, ax=ax)"
   ]
  },
  {
   "cell_type": "code",
   "execution_count": 27,
   "metadata": {},
   "outputs": [
    {
     "data": {
      "text/html": [
       "<div>\n",
       "<style scoped>\n",
       "    .dataframe tbody tr th:only-of-type {\n",
       "        vertical-align: middle;\n",
       "    }\n",
       "\n",
       "    .dataframe tbody tr th {\n",
       "        vertical-align: top;\n",
       "    }\n",
       "\n",
       "    .dataframe thead th {\n",
       "        text-align: right;\n",
       "    }\n",
       "</style>\n",
       "<table border=\"1\" class=\"dataframe\">\n",
       "  <thead>\n",
       "    <tr style=\"text-align: right;\">\n",
       "      <th></th>\n",
       "      <th>region_name</th>\n",
       "      <th>center_point</th>\n",
       "    </tr>\n",
       "  </thead>\n",
       "  <tbody>\n",
       "    <tr>\n",
       "      <td>0</td>\n",
       "      <td>13115000201</td>\n",
       "      <td>POINT (-85.1693420410156 34.3307456970215)</td>\n",
       "    </tr>\n",
       "    <tr>\n",
       "      <td>1</td>\n",
       "      <td>18057110512</td>\n",
       "      <td>POINT (-86.0604782104492 40.0928688049316)</td>\n",
       "    </tr>\n",
       "    <tr>\n",
       "      <td>2</td>\n",
       "      <td>32031980200</td>\n",
       "      <td>POINT (-119.929153442383 39.588264465332)</td>\n",
       "    </tr>\n",
       "    <tr>\n",
       "      <td>3</td>\n",
       "      <td>01055010700</td>\n",
       "      <td>POINT (-85.89308166503911 34.0650825500488)</td>\n",
       "    </tr>\n",
       "    <tr>\n",
       "      <td>4</td>\n",
       "      <td>42043024700</td>\n",
       "      <td>POINT (-76.8120880126953 40.4255256652832)</td>\n",
       "    </tr>\n",
       "  </tbody>\n",
       "</table>\n",
       "</div>"
      ],
      "text/plain": [
       "   region_name                                 center_point\n",
       "0  13115000201   POINT (-85.1693420410156 34.3307456970215)\n",
       "1  18057110512   POINT (-86.0604782104492 40.0928688049316)\n",
       "2  32031980200    POINT (-119.929153442383 39.588264465332)\n",
       "3  01055010700  POINT (-85.89308166503911 34.0650825500488)\n",
       "4  42043024700   POINT (-76.8120880126953 40.4255256652832)"
      ]
     },
     "execution_count": 27,
     "metadata": {},
     "output_type": "execute_result"
    }
   ],
   "source": [
    "dfcoor=df[['region_name','center_point']]\n",
    "dfcoor['center_point']=dfcoor['center_point'].apply(wkt.loads)\n",
    "dfcoor.head()"
   ]
  },
  {
   "cell_type": "code",
   "execution_count": 32,
   "metadata": {},
   "outputs": [],
   "source": [
    "gdf=geopandas.GeoDataFrame(dfcoor, geometry='center_point')"
   ]
  },
  {
   "cell_type": "code",
   "execution_count": 35,
   "metadata": {},
   "outputs": [
    {
     "ename": "ValueError",
     "evalue": "Must pass DataFrame with boolean values only",
     "output_type": "error",
     "traceback": [
      "\u001b[0;31m---------------------------------------------------------------------------\u001b[0m",
      "\u001b[0;31mValueError\u001b[0m                                Traceback (most recent call last)",
      "\u001b[0;32m<ipython-input-35-e78c1409dc4e>\u001b[0m in \u001b[0;36m<module>\u001b[0;34m\u001b[0m\n\u001b[0;32m----> 1\u001b[0;31m ax = world[world].plot(\n\u001b[0m\u001b[1;32m      2\u001b[0m     color='white', edgecolor='black')\n\u001b[1;32m      3\u001b[0m \u001b[0;34m\u001b[0m\u001b[0m\n\u001b[1;32m      4\u001b[0m \u001b[0mgdf\u001b[0m\u001b[0;34m.\u001b[0m\u001b[0mplot\u001b[0m\u001b[0;34m(\u001b[0m\u001b[0max\u001b[0m\u001b[0;34m=\u001b[0m\u001b[0max\u001b[0m\u001b[0;34m,\u001b[0m \u001b[0mcolor\u001b[0m\u001b[0;34m=\u001b[0m\u001b[0;34m'red'\u001b[0m\u001b[0;34m)\u001b[0m\u001b[0;34m\u001b[0m\u001b[0;34m\u001b[0m\u001b[0m\n\u001b[1;32m      5\u001b[0m \u001b[0;34m\u001b[0m\u001b[0m\n",
      "\u001b[0;32m~/opt/anaconda3/lib/python3.7/site-packages/geopandas/geodataframe.py\u001b[0m in \u001b[0;36m__getitem__\u001b[0;34m(self, key)\u001b[0m\n\u001b[1;32m    574\u001b[0m         \u001b[0mGeoDataFrame\u001b[0m\u001b[0;34m.\u001b[0m\u001b[0;34m\u001b[0m\u001b[0;34m\u001b[0m\u001b[0m\n\u001b[1;32m    575\u001b[0m         \"\"\"\n\u001b[0;32m--> 576\u001b[0;31m         \u001b[0mresult\u001b[0m \u001b[0;34m=\u001b[0m \u001b[0msuper\u001b[0m\u001b[0;34m(\u001b[0m\u001b[0mGeoDataFrame\u001b[0m\u001b[0;34m,\u001b[0m \u001b[0mself\u001b[0m\u001b[0;34m)\u001b[0m\u001b[0;34m.\u001b[0m\u001b[0m__getitem__\u001b[0m\u001b[0;34m(\u001b[0m\u001b[0mkey\u001b[0m\u001b[0;34m)\u001b[0m\u001b[0;34m\u001b[0m\u001b[0;34m\u001b[0m\u001b[0m\n\u001b[0m\u001b[1;32m    577\u001b[0m         \u001b[0mgeo_col\u001b[0m \u001b[0;34m=\u001b[0m \u001b[0mself\u001b[0m\u001b[0;34m.\u001b[0m\u001b[0m_geometry_column_name\u001b[0m\u001b[0;34m\u001b[0m\u001b[0;34m\u001b[0m\u001b[0m\n\u001b[1;32m    578\u001b[0m         \u001b[0;32mif\u001b[0m \u001b[0misinstance\u001b[0m\u001b[0;34m(\u001b[0m\u001b[0mkey\u001b[0m\u001b[0;34m,\u001b[0m \u001b[0mstr\u001b[0m\u001b[0;34m)\u001b[0m \u001b[0;32mand\u001b[0m \u001b[0mkey\u001b[0m \u001b[0;34m==\u001b[0m \u001b[0mgeo_col\u001b[0m\u001b[0;34m:\u001b[0m\u001b[0;34m\u001b[0m\u001b[0;34m\u001b[0m\u001b[0m\n",
      "\u001b[0;32m~/opt/anaconda3/lib/python3.7/site-packages/pandas/core/frame.py\u001b[0m in \u001b[0;36m__getitem__\u001b[0;34m(self, key)\u001b[0m\n\u001b[1;32m   2965\u001b[0m         \u001b[0;31m# Do we have a (boolean) DataFrame?\u001b[0m\u001b[0;34m\u001b[0m\u001b[0;34m\u001b[0m\u001b[0;34m\u001b[0m\u001b[0m\n\u001b[1;32m   2966\u001b[0m         \u001b[0;32mif\u001b[0m \u001b[0misinstance\u001b[0m\u001b[0;34m(\u001b[0m\u001b[0mkey\u001b[0m\u001b[0;34m,\u001b[0m \u001b[0mDataFrame\u001b[0m\u001b[0;34m)\u001b[0m\u001b[0;34m:\u001b[0m\u001b[0;34m\u001b[0m\u001b[0;34m\u001b[0m\u001b[0m\n\u001b[0;32m-> 2967\u001b[0;31m             \u001b[0;32mreturn\u001b[0m \u001b[0mself\u001b[0m\u001b[0;34m.\u001b[0m\u001b[0m_getitem_frame\u001b[0m\u001b[0;34m(\u001b[0m\u001b[0mkey\u001b[0m\u001b[0;34m)\u001b[0m\u001b[0;34m\u001b[0m\u001b[0;34m\u001b[0m\u001b[0m\n\u001b[0m\u001b[1;32m   2968\u001b[0m \u001b[0;34m\u001b[0m\u001b[0m\n\u001b[1;32m   2969\u001b[0m         \u001b[0;31m# Do we have a (boolean) 1d indexer?\u001b[0m\u001b[0;34m\u001b[0m\u001b[0;34m\u001b[0m\u001b[0;34m\u001b[0m\u001b[0m\n",
      "\u001b[0;32m~/opt/anaconda3/lib/python3.7/site-packages/pandas/core/frame.py\u001b[0m in \u001b[0;36m_getitem_frame\u001b[0;34m(self, key)\u001b[0m\n\u001b[1;32m   3064\u001b[0m     \u001b[0;32mdef\u001b[0m \u001b[0m_getitem_frame\u001b[0m\u001b[0;34m(\u001b[0m\u001b[0mself\u001b[0m\u001b[0;34m,\u001b[0m \u001b[0mkey\u001b[0m\u001b[0;34m)\u001b[0m\u001b[0;34m:\u001b[0m\u001b[0;34m\u001b[0m\u001b[0;34m\u001b[0m\u001b[0m\n\u001b[1;32m   3065\u001b[0m         \u001b[0;32mif\u001b[0m \u001b[0mkey\u001b[0m\u001b[0;34m.\u001b[0m\u001b[0mvalues\u001b[0m\u001b[0;34m.\u001b[0m\u001b[0msize\u001b[0m \u001b[0;32mand\u001b[0m \u001b[0;32mnot\u001b[0m \u001b[0mis_bool_dtype\u001b[0m\u001b[0;34m(\u001b[0m\u001b[0mkey\u001b[0m\u001b[0;34m.\u001b[0m\u001b[0mvalues\u001b[0m\u001b[0;34m)\u001b[0m\u001b[0;34m:\u001b[0m\u001b[0;34m\u001b[0m\u001b[0;34m\u001b[0m\u001b[0m\n\u001b[0;32m-> 3066\u001b[0;31m             \u001b[0;32mraise\u001b[0m \u001b[0mValueError\u001b[0m\u001b[0;34m(\u001b[0m\u001b[0;34m\"Must pass DataFrame with boolean values only\"\u001b[0m\u001b[0;34m)\u001b[0m\u001b[0;34m\u001b[0m\u001b[0;34m\u001b[0m\u001b[0m\n\u001b[0m\u001b[1;32m   3067\u001b[0m         \u001b[0;32mreturn\u001b[0m \u001b[0mself\u001b[0m\u001b[0;34m.\u001b[0m\u001b[0mwhere\u001b[0m\u001b[0;34m(\u001b[0m\u001b[0mkey\u001b[0m\u001b[0;34m)\u001b[0m\u001b[0;34m\u001b[0m\u001b[0;34m\u001b[0m\u001b[0m\n\u001b[1;32m   3068\u001b[0m \u001b[0;34m\u001b[0m\u001b[0m\n",
      "\u001b[0;31mValueError\u001b[0m: Must pass DataFrame with boolean values only"
     ]
    }
   ],
   "source": [
    "ax = world[world.].plot(\n",
    "    color='white', edgecolor='black')\n",
    "\n",
    "gdf.plot(ax=ax, color='red')\n",
    "\n",
    "plt.show()"
   ]
  },
  {
   "cell_type": "code",
   "execution_count": null,
   "metadata": {},
   "outputs": [],
   "source": []
  }
 ],
 "metadata": {
  "kernelspec": {
   "display_name": "Python 3",
   "language": "python",
   "name": "python3"
  },
  "language_info": {
   "codemirror_mode": {
    "name": "ipython",
    "version": 3
   },
   "file_extension": ".py",
   "mimetype": "text/x-python",
   "name": "python",
   "nbconvert_exporter": "python",
   "pygments_lexer": "ipython3",
   "version": "3.7.4"
  },
  "toc": {
   "base_numbering": 1,
   "nav_menu": {},
   "number_sections": true,
   "sideBar": true,
   "skip_h1_title": false,
   "title_cell": "Table of Contents",
   "title_sidebar": "Contents",
   "toc_cell": false,
   "toc_position": {},
   "toc_section_display": true,
   "toc_window_display": false
  },
  "varInspector": {
   "cols": {
    "lenName": 16,
    "lenType": 16,
    "lenVar": 40
   },
   "kernels_config": {
    "python": {
     "delete_cmd_postfix": "",
     "delete_cmd_prefix": "del ",
     "library": "var_list.py",
     "varRefreshCmd": "print(var_dic_list())"
    },
    "r": {
     "delete_cmd_postfix": ") ",
     "delete_cmd_prefix": "rm(",
     "library": "var_list.r",
     "varRefreshCmd": "cat(var_dic_list()) "
    }
   },
   "types_to_exclude": [
    "module",
    "function",
    "builtin_function_or_method",
    "instance",
    "_Feature"
   ],
   "window_display": false
  }
 },
 "nbformat": 4,
 "nbformat_minor": 2
}
