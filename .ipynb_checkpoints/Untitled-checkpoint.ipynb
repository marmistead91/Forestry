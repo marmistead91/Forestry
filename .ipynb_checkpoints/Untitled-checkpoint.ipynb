{
 "cells": [
  {
   "cell_type": "code",
   "execution_count": 1,
   "metadata": {},
   "outputs": [],
   "source": [
    "import pandas as pd \n",
    "from google.cloud import bigquery"
   ]
  },
  {
   "cell_type": "code",
   "execution_count": 2,
   "metadata": {},
   "outputs": [],
   "source": [
    "gcp_project = 'future-bucksaw-294915'\n",
    "bq_data = 'trees'"
   ]
  },
  {
   "cell_type": "code",
   "execution_count": 3,
   "metadata": {},
   "outputs": [],
   "source": [
    "client=bigquery.Client(gcp_project)\n",
    "dataset_ref=client.dataset(bq_data)"
   ]
  },
  {
   "cell_type": "code",
   "execution_count": 4,
   "metadata": {},
   "outputs": [],
   "source": [
    "def gcp2df(sql):\n",
    "    query = client.query(sql)\n",
    "    results=query.result()\n",
    "    return results.to_dataframe()"
   ]
  },
  {
   "cell_type": "code",
   "execution_count": 5,
   "metadata": {},
   "outputs": [],
   "source": [
    "query = \"\"\"SELECT sequence_number\n",
    ", plot_sequence_number\n",
    ", inventory_year\n",
    ", condition_status_code_name\n",
    ", owner_class_code_name\n",
    ", forest_type_code_name\n",
    ", physiographic_class_code_name\n",
    ",harvest_type_code_1_southern_research_station_name\n",
    ",grazing_southern_research_station_name\n",
    ",fire_southern_research_station_name\n",
    "FROM `bigquery-public-data.usfs_fia.condition` WHERE state_code = 36 LIMIT 1000\"\"\"\n"
   ]
  },
  {
   "cell_type": "code",
   "execution_count": 6,
   "metadata": {},
   "outputs": [
    {
     "name": "stderr",
     "output_type": "stream",
     "text": [
      "/Users/michaelarmistead/opt/anaconda3/lib/python3.7/site-packages/google/cloud/bigquery/client.py:441: UserWarning: Cannot create BigQuery Storage client, the dependency google-cloud-bigquery-storage is not installed.\n",
      "  \"Cannot create BigQuery Storage client, the dependency \"\n"
     ]
    },
    {
     "data": {
      "text/html": [
       "<div>\n",
       "<style scoped>\n",
       "    .dataframe tbody tr th:only-of-type {\n",
       "        vertical-align: middle;\n",
       "    }\n",
       "\n",
       "    .dataframe tbody tr th {\n",
       "        vertical-align: top;\n",
       "    }\n",
       "\n",
       "    .dataframe thead th {\n",
       "        text-align: right;\n",
       "    }\n",
       "</style>\n",
       "<table border=\"1\" class=\"dataframe\">\n",
       "  <thead>\n",
       "    <tr style=\"text-align: right;\">\n",
       "      <th></th>\n",
       "      <th>sequence_number</th>\n",
       "      <th>plot_sequence_number</th>\n",
       "      <th>inventory_year</th>\n",
       "      <th>condition_status_code_name</th>\n",
       "      <th>owner_class_code_name</th>\n",
       "      <th>forest_type_code_name</th>\n",
       "      <th>physiographic_class_code_name</th>\n",
       "      <th>harvest_type_code_1_southern_research_station_name</th>\n",
       "      <th>grazing_southern_research_station_name</th>\n",
       "      <th>fire_southern_research_station_name</th>\n",
       "    </tr>\n",
       "  </thead>\n",
       "  <tbody>\n",
       "    <tr>\n",
       "      <td>0</td>\n",
       "      <td>65843432010538</td>\n",
       "      <td>53932482010538</td>\n",
       "      <td>2003</td>\n",
       "      <td>Accessible forest land - Land within the popul...</td>\n",
       "      <td>Undifferentiated private and Native American.</td>\n",
       "      <td>Sugar maple / beech / yellow birch</td>\n",
       "      <td>Mesic sites (normally moderate but adequate av...</td>\n",
       "      <td>None</td>\n",
       "      <td>None</td>\n",
       "      <td>None</td>\n",
       "    </tr>\n",
       "    <tr>\n",
       "      <td>1</td>\n",
       "      <td>65843432010538</td>\n",
       "      <td>53932482010538</td>\n",
       "      <td>2003</td>\n",
       "      <td>Accessible forest land - Land within the popul...</td>\n",
       "      <td>Undifferentiated private and Native American.</td>\n",
       "      <td>Sugar maple / beech / yellow birch</td>\n",
       "      <td>Mesic sites (normally moderate but adequate av...</td>\n",
       "      <td>None</td>\n",
       "      <td>None</td>\n",
       "      <td>None</td>\n",
       "    </tr>\n",
       "    <tr>\n",
       "      <td>2</td>\n",
       "      <td>673961930126144</td>\n",
       "      <td>459835938489998</td>\n",
       "      <td>2018</td>\n",
       "      <td>Accessible forest land - Land within the popul...</td>\n",
       "      <td>Undifferentiated private and Native American.</td>\n",
       "      <td>Eastern white pine</td>\n",
       "      <td>Rolling Uplands - Hills and gently rolling, un...</td>\n",
       "      <td>None</td>\n",
       "      <td>None</td>\n",
       "      <td>None</td>\n",
       "    </tr>\n",
       "    <tr>\n",
       "      <td>3</td>\n",
       "      <td>673961930126144</td>\n",
       "      <td>459835938489998</td>\n",
       "      <td>2018</td>\n",
       "      <td>Accessible forest land - Land within the popul...</td>\n",
       "      <td>Undifferentiated private and Native American.</td>\n",
       "      <td>Eastern white pine</td>\n",
       "      <td>Rolling Uplands - Hills and gently rolling, un...</td>\n",
       "      <td>None</td>\n",
       "      <td>None</td>\n",
       "      <td>None</td>\n",
       "    </tr>\n",
       "    <tr>\n",
       "      <td>4</td>\n",
       "      <td>247213035010661</td>\n",
       "      <td>168990246010661</td>\n",
       "      <td>2010</td>\n",
       "      <td>Accessible forest land - Land within the popul...</td>\n",
       "      <td>Undifferentiated private and Native American.</td>\n",
       "      <td>Cherry / white ash / yellow-poplar</td>\n",
       "      <td>Rolling Uplands - Hills and gently rolling, un...</td>\n",
       "      <td>None</td>\n",
       "      <td>None</td>\n",
       "      <td>None</td>\n",
       "    </tr>\n",
       "  </tbody>\n",
       "</table>\n",
       "</div>"
      ],
      "text/plain": [
       "   sequence_number  plot_sequence_number  inventory_year  \\\n",
       "0   65843432010538        53932482010538            2003   \n",
       "1   65843432010538        53932482010538            2003   \n",
       "2  673961930126144       459835938489998            2018   \n",
       "3  673961930126144       459835938489998            2018   \n",
       "4  247213035010661       168990246010661            2010   \n",
       "\n",
       "                          condition_status_code_name  \\\n",
       "0  Accessible forest land - Land within the popul...   \n",
       "1  Accessible forest land - Land within the popul...   \n",
       "2  Accessible forest land - Land within the popul...   \n",
       "3  Accessible forest land - Land within the popul...   \n",
       "4  Accessible forest land - Land within the popul...   \n",
       "\n",
       "                           owner_class_code_name  \\\n",
       "0  Undifferentiated private and Native American.   \n",
       "1  Undifferentiated private and Native American.   \n",
       "2  Undifferentiated private and Native American.   \n",
       "3  Undifferentiated private and Native American.   \n",
       "4  Undifferentiated private and Native American.   \n",
       "\n",
       "                forest_type_code_name  \\\n",
       "0  Sugar maple / beech / yellow birch   \n",
       "1  Sugar maple / beech / yellow birch   \n",
       "2                  Eastern white pine   \n",
       "3                  Eastern white pine   \n",
       "4  Cherry / white ash / yellow-poplar   \n",
       "\n",
       "                       physiographic_class_code_name  \\\n",
       "0  Mesic sites (normally moderate but adequate av...   \n",
       "1  Mesic sites (normally moderate but adequate av...   \n",
       "2  Rolling Uplands - Hills and gently rolling, un...   \n",
       "3  Rolling Uplands - Hills and gently rolling, un...   \n",
       "4  Rolling Uplands - Hills and gently rolling, un...   \n",
       "\n",
       "  harvest_type_code_1_southern_research_station_name  \\\n",
       "0                                               None   \n",
       "1                                               None   \n",
       "2                                               None   \n",
       "3                                               None   \n",
       "4                                               None   \n",
       "\n",
       "  grazing_southern_research_station_name fire_southern_research_station_name  \n",
       "0                                   None                                None  \n",
       "1                                   None                                None  \n",
       "2                                   None                                None  \n",
       "3                                   None                                None  \n",
       "4                                   None                                None  "
      ]
     },
     "execution_count": 6,
     "metadata": {},
     "output_type": "execute_result"
    }
   ],
   "source": [
    "df=gcp2df(query)\n",
    "df.head()"
   ]
  },
  {
   "cell_type": "code",
   "execution_count": null,
   "metadata": {},
   "outputs": [],
   "source": []
  }
 ],
 "metadata": {
  "kernelspec": {
   "display_name": "Python 3",
   "language": "python",
   "name": "python3"
  },
  "language_info": {
   "codemirror_mode": {
    "name": "ipython",
    "version": 3
   },
   "file_extension": ".py",
   "mimetype": "text/x-python",
   "name": "python",
   "nbconvert_exporter": "python",
   "pygments_lexer": "ipython3",
   "version": "3.7.4"
  },
  "toc": {
   "base_numbering": 1,
   "nav_menu": {},
   "number_sections": true,
   "sideBar": true,
   "skip_h1_title": false,
   "title_cell": "Table of Contents",
   "title_sidebar": "Contents",
   "toc_cell": false,
   "toc_position": {},
   "toc_section_display": true,
   "toc_window_display": false
  },
  "varInspector": {
   "cols": {
    "lenName": 16,
    "lenType": 16,
    "lenVar": 40
   },
   "kernels_config": {
    "python": {
     "delete_cmd_postfix": "",
     "delete_cmd_prefix": "del ",
     "library": "var_list.py",
     "varRefreshCmd": "print(var_dic_list())"
    },
    "r": {
     "delete_cmd_postfix": ") ",
     "delete_cmd_prefix": "rm(",
     "library": "var_list.r",
     "varRefreshCmd": "cat(var_dic_list()) "
    }
   },
   "types_to_exclude": [
    "module",
    "function",
    "builtin_function_or_method",
    "instance",
    "_Feature"
   ],
   "window_display": false
  }
 },
 "nbformat": 4,
 "nbformat_minor": 2
}
